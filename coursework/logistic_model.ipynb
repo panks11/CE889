{
 "cells": [
  {
   "cell_type": "code",
   "execution_count": 18,
   "metadata": {},
   "outputs": [],
   "source": [
    "import numpy as np\n",
    "from pylab import *\n",
    "import pandas as pd\n",
    "%matplotlib inline\n",
    "\n",
    "import scipy.io as sio\n",
    "from scipy.signal import welch\n",
    "from scipy.integrate import simps\n",
    "\n",
    "from sklearn.metrics import classification_report, confusion_matrix, accuracy_score\n",
    "import itertools\n"
   ]
  },
  {
   "cell_type": "code",
   "execution_count": 19,
   "metadata": {},
   "outputs": [],
   "source": [
    "def bandpower(data, sf,window_sec=None, relative=False):\n",
    "        \"\"\"\n",
    "\n",
    "        Parameters\n",
    "        ----------\n",
    "        data : 1d-array\n",
    "            EEG data from a single electrode\n",
    "        sf : float\n",
    "            Sampling frequency\n",
    "        window_sec : float\n",
    "            Length of each window\n",
    "            Default Value, window_sec = (1 / min(band)) * 2\n",
    "        relative : boolean\n",
    "            Relative Band Power(True) or Absolute (False)\n",
    "\n",
    "        Return\n",
    "        ------\n",
    "        bp_arr : 1-d array\n",
    "            Array of Absolute and Relative Band Power for Given Frequency Bands - Delta , Theta , Alpha , Beta , Gamma\n",
    "        \"\"\"\n",
    "\n",
    "        \n",
    "        eeg_bands = {'Delta': (1, 4),\n",
    "                    'Theta': (4, 8),\n",
    "                    'Alpha': (8, 12),\n",
    "                    'Beta': (12, 30),\n",
    "                    'Gamma': (30, 120)\n",
    "                    }\n",
    "        \n",
    "        bp_arr = []\n",
    "        for band in ['Delta','Theta','Alpha','Beta','Gamma']:\n",
    "            low, high = eeg_bands[band][0],eeg_bands[band][1]\n",
    "            \n",
    "            # Define window length\n",
    "            if window_sec is not None:\n",
    "                nseg = window_sec * sf\n",
    "            else:\n",
    "                nseg = (2 / low) * sf\n",
    "            if nseg > sf:\n",
    "                nseg = sf\n",
    "            # Compute the modified periodogram (Welch)\n",
    "            freqs, psd = welch(data, sf, nperseg = nseg)\n",
    "\n",
    "            # Frequency resolution\n",
    "            freq_res = freqs[1] - freqs[0]\n",
    "\n",
    "            # Find closest indices of band in frequency vector\n",
    "            idx_band = np.logical_and(freqs >= low, freqs <= high)\n",
    "\n",
    "            # Integral approximation of the spectrum using Simpson's rule.\n",
    "            bp = simps(psd[idx_band], dx=freq_res)\n",
    "            \n",
    "            # relative to the overal bandpower of signal\n",
    "            if relative:\n",
    "                bp /= simps(psd, dx=freq_res)\n",
    "            bp_arr.append(bp)\n",
    "        return np.array(bp_arr)"
   ]
  },
  {
   "cell_type": "code",
   "execution_count": 20,
   "metadata": {},
   "outputs": [],
   "source": [
    "mat = sio.loadmat('data\\WLDataCW.mat')\n",
    "datafile = 'data\\WLDataCW.mat'\n",
    "data_arr = sio.loadmat(datafile)\n",
    "x_ = data_arr['data']\n",
    "y_ = data_arr['label'].reshape(-1)"
   ]
  },
  {
   "cell_type": "code",
   "execution_count": 21,
   "metadata": {},
   "outputs": [],
   "source": [
    "\n",
    "append = np.empty([0,310])\n",
    "\n",
    "for sample in range(x_.shape[-1]):\n",
    "    e_data = []\n",
    "    for electrode in range(x_.shape[0]):\n",
    "        e_data.append(bandpower(x_[electrode,:,sample],256,None,True))\n",
    "    arr =np.array(e_data).reshape(1,-1)\n",
    "    append = np.append(append,arr,axis=0)"
   ]
  },
  {
   "cell_type": "code",
   "execution_count": 22,
   "metadata": {},
   "outputs": [],
   "source": [
    "x_ = np.array(append).transpose()"
   ]
  },
  {
   "cell_type": "code",
   "execution_count": 35,
   "metadata": {},
   "outputs": [
    {
     "name": "stdout",
     "output_type": "stream",
     "text": [
      "Length of Train Set : 288\n",
      "Length of Test Set : 72\n"
     ]
    }
   ],
   "source": [
    "low_idx = np.argwhere(y_==0).reshape(-1)\n",
    "medium_idx = np.argwhere(y_==1).reshape(-1)\n",
    "\n",
    "indices = np.random.permutation(low_idx)\n",
    "\n",
    "training_idx , test_idx = indices[:144] , indices[144:]\n",
    "\n",
    "indices = np.random.permutation(medium_idx)\n",
    "training_idx = np.append(training_idx ,indices[:144] )\n",
    "test_idx = np.append(test_idx ,indices[144:])\n",
    "\n",
    "print(\"Length of Train Set :\" ,len(training_idx))\n",
    "print(\"Length of Test Set :\" ,len(test_idx))\n",
    "\n",
    "\n",
    "x_train = x_[:,training_idx]\n",
    "y_train = y_[training_idx]\n",
    "\n",
    "x_test = x_[:,test_idx]\n",
    "y_test = y_[test_idx]"
   ]
  },
  {
   "cell_type": "code",
   "execution_count": 36,
   "metadata": {},
   "outputs": [
    {
     "data": {
      "text/plain": [
       "(288,)"
      ]
     },
     "execution_count": 36,
     "metadata": {},
     "output_type": "execute_result"
    }
   ],
   "source": [
    "y_train.shape"
   ]
  },
  {
   "cell_type": "code",
   "execution_count": 60,
   "metadata": {},
   "outputs": [],
   "source": [
    "import matplotlib.pyplot as plt\n",
    "import numpy as np\n",
    "\n",
    "class NN():\n",
    "  def __init__(self,X,y):\n",
    "    \"\"\" X : input matrix\n",
    "        Y : GroundTruth matrix\n",
    "    \"\"\"\n",
    "    self.X = X\n",
    "    self.y = y\n",
    "    self.W = np.random.normal(loc = 0.0, scale = 1e-2, size = (X.shape[0],y.shape[0]))\n",
    "    self.b = np.random.normal(loc = 0.0, scale = 1e-2, size = (y.shape[0],1))\n",
    "    # self.W = np.zeros((X.shape[0],y.shape[0]))\n",
    "    # self.b = np.zeros(y.shape)\n",
    "    self.loss_lst = []\n",
    "  \n",
    "  def activation(self,Z ,fn = 'sigmoid'):\n",
    "    if fn == 'sigmoid':\n",
    "      return 1/(1+np.exp(-Z))\n",
    "\n",
    "  def log_loss(self,yHat, y):\n",
    "    return y*np.log(yHat)+(1-y)*np.log(1 - yHat)\n",
    "\n",
    "  def forward_propogation(self):\n",
    "  # ''' Xin :input matrix y :ground truth matrix'''\n",
    "    yhat = self.activation(np.matmul(self.W.transpose(),self.X) +self.b)\n",
    "    loss = -1*(self.log_loss(yhat,self.y)).sum()/self.X.shape[1]\n",
    "    return yhat,loss\n",
    "\n",
    "  def fit(self,n,plot=True):\n",
    "    for i in range(3000):\n",
    "      yhat,loss = self.forward_propogation()\n",
    "      wderv = self.X@np.transpose(yhat-self.y)/self.X.shape[1]\n",
    "      bderv = np.sum(yhat-self.y)/self.X.shape[1]\n",
    "      self.W = self.W - n * wderv\n",
    "      self.b = self.b - n * bderv\n",
    "      self.loss_lst.append(loss)\n",
    "      # print(loss)\n",
    "      if loss <=0.0001:\n",
    "        break\n",
    "    if plot:\n",
    "      self.plot_loss()\n",
    "    return self.W,self.b\n",
    "\n",
    "  def plot_loss(self):\n",
    "    plt.plot(self.loss_lst)\n",
    "    plt.show()\n",
    "\n",
    "  def predict(self,Xtest):\n",
    "    return np.where(self.activation(np.matmul(self.W.transpose(),Xtest) +self.b).reshape(-1)>0.8,1,0)\n",
    "  \n",
    "  def plot_confusion_matrix(self,cm, classes,\n",
    "                          normalize=True,\n",
    "                          title='Confusion matrix',\n",
    "                          cmap=plt.cm.Blues):\n",
    "    \"\"\"\n",
    "    This function prints and plots the confusion matrix.\n",
    "    Normalization can be applied by setting `normalize=True`.\n",
    "    \"\"\"\n",
    "    if normalize:\n",
    "        cm = cm.astype('float') / cm.sum(axis=1)[:, np.newaxis]\n",
    "        print(\"Normalized confusion matrix\")\n",
    "    else:\n",
    "        print('Confusion matrix, without normalization')\n",
    "    plt.imshow(cm, interpolation='nearest', cmap=cmap)\n",
    "    plt.title(title)\n",
    "    plt.colorbar()\n",
    "    tick_marks = np.arange(len(classes))\n",
    "    plt.xticks(tick_marks, classes, rotation=45)\n",
    "    plt.yticks(tick_marks, classes)\n",
    "    thresh = cm.max() / 2.\n",
    "    for i, j in itertools.product(range(cm.shape[0]), range(cm.shape[1])):\n",
    "        t = \"(%.2f)\"%(cm[i, j])\n",
    "    plt.tight_layout()\n",
    "    plt.ylabel('True label')\n",
    "    plt.xlabel('Predicted label')\n",
    "    \n",
    "  def accuray_report(self,Xtest,true,report=True):\n",
    "    pred = self.predict(Xtest)\n",
    "    if report:\n",
    "      print(10*'*')\n",
    "      print('Confusion Matrix')\n",
    "      print(10*'*')\n",
    "      cm = confusion_matrix(true , pred)\n",
    "      print(cm)\n",
    "      self.plot_confusion_matrix(cm,['Low','Medium'])\n",
    "      \n",
    "      print(10*'*')\n",
    "      print('Classification Report')\n",
    "      print(10*'*')\n",
    "      print(classification_report(true , pred ))\n",
    "    return accuracy_score(true,pred)"
   ]
  },
  {
   "cell_type": "code",
   "execution_count": 61,
   "metadata": {},
   "outputs": [
    {
     "data": {
      "image/png": "[encoded data removed]",
      "text/plain": [
       "<Figure size 432x288 with 1 Axes>"
      ]
     },
     "metadata": {
      "needs_background": "light"
     },
     "output_type": "display_data"
    },
    {
     "name": "stdout",
     "output_type": "stream",
     "text": [
      "Minimum Loss Value 0.3064469745085704\n"
     ]
    }
   ],
   "source": [
    "Xtrain = x_train\n",
    "ytrain = y_train.reshape(1,-1)\n",
    "\n",
    "obj = NN(Xtrain,ytrain)\n",
    "obj.fit(0.01)\n",
    "print(\"Minimum Loss Value {}\".format(obj.loss_lst[-1]))"
   ]
  },
  {
   "cell_type": "code",
   "execution_count": 67,
   "metadata": {},
   "outputs": [
    {
     "name": "stdout",
     "output_type": "stream",
     "text": [
      "------------fold no-0-------------\n",
      "0.7708333333333334\n",
      "------------fold no-1-------------\n",
      "0.6875\n",
      "------------fold no-2-------------\n",
      "0.8020833333333334\n",
      "---------Cross Validation Accuracy----------\n",
      "0.7534722222222223\n",
      "Done\n"
     ]
    }
   ],
   "source": [
    "from sklearn.model_selection import KFold\n",
    "n = 3\n",
    "kfold=KFold(n_splits=n,shuffle=True)\n",
    "acc = 0\n",
    "for fold,(train_idx,test_idx) in enumerate(kfold.split(y_train)):\n",
    "    print('------------fold no-{}-------------'.format(fold))\n",
    "    # print(x_train[:,train_idx].shape)\n",
    "    # print(y_train[train_idx].shape)\n",
    "    # print(x_train[:,test_idx].shape)\n",
    "    # print(y_train[test_idx].shape)\n",
    "    # print(train_idx)\n",
    "    # print(test_idx)\n",
    "    X = x_train[:,train_idx]\n",
    "    Y = y_train[train_idx].reshape(1,-1)\n",
    "    X_val = x_train[:,test_idx]\n",
    "    Y_val = y_train[test_idx]\n",
    "    if obj:\n",
    "        del(obj)\n",
    "    obj = NN(X,Y)\n",
    "    obj.fit(0.01,False)\n",
    "    acc_s = obj.accuray_report(X_val,Y_val,False)\n",
    "    print(acc_s)\n",
    "    acc +=acc_s\n",
    "    \n",
    "\n",
    "print('---------Cross Validation Accuracy----------')\n",
    "print(acc/n)\n",
    "print(\"Done\")\n"
   ]
  },
  {
   "cell_type": "code",
   "execution_count": 68,
   "metadata": {},
   "outputs": [
    {
     "name": "stdout",
     "output_type": "stream",
     "text": [
      "**********\n",
      "Confusion Matrix\n",
      "**********\n",
      "[[36  0]\n",
      " [18 18]]\n",
      "Normalized confusion matrix\n",
      "**********\n",
      "Classification Report\n",
      "**********\n",
      "              precision    recall  f1-score   support\n",
      "\n",
      "           0       0.67      1.00      0.80        36\n",
      "           1       1.00      0.50      0.67        36\n",
      "\n",
      "    accuracy                           0.75        72\n",
      "   macro avg       0.83      0.75      0.73        72\n",
      "weighted avg       0.83      0.75      0.73        72\n",
      "\n"
     ]
    },
    {
     "data": {
      "text/plain": [
       "0.75"
      ]
     },
     "execution_count": 68,
     "metadata": {},
     "output_type": "execute_result"
    },
    {
     "data": {
      "image/png": "[encoded data removed]",
      "text/plain": [
       "<Figure size 432x288 with 2 Axes>"
      ]
     },
     "metadata": {
      "needs_background": "light"
     },
     "output_type": "display_data"
    }
   ],
   "source": [
    "obj.accuray_report(x_test,y_test)"
   ]
  },
  {
   "cell_type": "code",
   "execution_count": null,
   "metadata": {},
   "outputs": [],
   "source": []
  }
 ],
 "metadata": {
  "interpreter": {
   "hash": "f73ca796a9fc520160c68fb082adeee8cca72dd22cecda376fb3fa4e6ba6f920"
  },
  "kernelspec": {
   "display_name": "Python 3.7.11 ('pytorch')",
   "language": "python",
   "name": "python3"
  },
  "language_info": {
   "codemirror_mode": {
    "name": "ipython",
    "version": 3
   },
   "file_extension": ".py",
   "mimetype": "text/x-python",
   "name": "python",
   "nbconvert_exporter": "python",
   "pygments_lexer": "ipython3",
   "version": "3.7.11"
  },
  "orig_nbformat": 4
 },
 "nbformat": 4,
 "nbformat_minor": 2
}
