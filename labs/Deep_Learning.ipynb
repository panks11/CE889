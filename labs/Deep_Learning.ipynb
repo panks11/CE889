{
  "nbformat": 4,
  "nbformat_minor": 0,
  "metadata": {
    "colab": {
      "name": "Deep_Learning.ipynb",
      "provenance": [],
      "collapsed_sections": [],
      "authorship_tag": "ABX9TyPIxlzDv7KbBHjVq4D5Iu5O",
      "include_colab_link": true
    },
    "kernelspec": {
      "name": "python3",
      "display_name": "Python 3"
    },
    "language_info": {
      "name": "python"
    }
  },
  "cells": [
    {
      "cell_type": "markdown",
      "metadata": {
        "id": "view-in-github",
        "colab_type": "text"
      },
      "source": [
        "<a href=\"https://colab.research.google.com/github/panks11/CE889/blob/main/labs/Deep_Learning.ipynb\" target=\"_parent\"><img src=\"https://colab.research.google.com/assets/colab-badge.svg\" alt=\"Open In Colab\"/></a>"
      ]
    },
    {
      "cell_type": "markdown",
      "source": [
        "#Lab2"
      ],
      "metadata": {
        "id": "a_xTorJ3S3oL"
      }
    },
    {
      "cell_type": "code",
      "execution_count": null,
      "metadata": {
        "id": "oG8QdSlhK6BI"
      },
      "outputs": [],
      "source": [
        "from matplotlib import pyplot as plt\n",
        "\n",
        "import numpy as np\n",
        "\n",
        "import math as m"
      ]
    },
    {
      "cell_type": "code",
      "source": [
        "import matplotlib.pyplot as plt\n",
        "import numpy as np\n",
        "\n",
        "\n",
        "a = np.array([1,1])\n",
        "b = a*2\n",
        "fig, ax = plt.subplots()\n",
        "q = ax.quiver(*a,units='xy',scale=1,color='blue',width = .09)\n",
        "q = ax.quiver(*b,units='xy',scale=1,color='red')\n",
        "\n",
        "\n",
        "plt.grid()\n",
        "\n",
        "ax.set_aspect('equal')\n",
        "\n",
        "plt.xlim(0,5)\n",
        "plt.ylim(0,5)\n",
        "\n",
        "plt.title('How to plot a vector in matplotlib ?',fontsize=10)\n",
        "\n",
        "# plt.savefig('how_to_plot_a_vector_in_matplotlib_fig3.png', bbox_inches='tight')\n",
        "plt.show()"
      ],
      "metadata": {
        "colab": {
          "base_uri": "https://localhost:8080/",
          "height": 279
        },
        "id": "iQwpZEDuY_gT",
        "outputId": "5e3ac673-7bbb-4bd2-cc8f-6739927974c2"
      },
      "execution_count": null,
      "outputs": [
        {
          "output_type": "display_data",
          "data": {
            "image/png": "[encoded data removed]",
            "text/plain": [
              "<Figure size 432x288 with 1 Axes>"
            ]
          },
          "metadata": {
            "needs_background": "light"
          }
        }
      ]
    },
    {
      "cell_type": "code",
      "source": [
        "def draw_plot(arr,scale):\n",
        "  a = np.array(arr)\n",
        "  print(type(a))\n",
        "  b = a*scale\n",
        "  fig, ax = plt.subplots()\n",
        "  q = ax.quiver(*a,units='xy',scale=1,color='blue',width = .09)\n",
        "  q = ax.quiver(*b,units='xy',scale=1,color='red')\n",
        "\n",
        "\n",
        "  plt.grid()\n",
        "\n",
        "  ax.set_aspect('equal')\n",
        "\n",
        "  plt.xlim(0,5)\n",
        "  plt.ylim(0,5)\n",
        "\n",
        "  plt.title('How to plot a vector in matplotlib ?',fontsize=10)\n",
        "\n",
        "  # plt.savefig('how_to_plot_a_vector_in_matplotlib_fig3.png', bbox_inches='tight')\n",
        "  plt.show()"
      ],
      "metadata": {
        "id": "shkIuJzEcIKN"
      },
      "execution_count": null,
      "outputs": []
    },
    {
      "cell_type": "code",
      "source": [
        "arr = eval(input(\"Enter your array: \"))\n",
        "scale= eval(input(\"Enter your scale: \"))\n"
      ],
      "metadata": {
        "colab": {
          "base_uri": "https://localhost:8080/"
        },
        "id": "orDHEhdriYf_",
        "outputId": "70a4d89c-ee2f-4da3-8b02-4ceb9ef3a68f"
      },
      "execution_count": null,
      "outputs": [
        {
          "name": "stdout",
          "output_type": "stream",
          "text": [
            "Enter your array: [1,1]\n",
            "Enter your scale: 2\n"
          ]
        }
      ]
    },
    {
      "cell_type": "code",
      "source": [
        "draw_plot(arr,scale)"
      ],
      "metadata": {
        "colab": {
          "base_uri": "https://localhost:8080/",
          "height": 296
        },
        "id": "LmczJGwSjcjp",
        "outputId": "09205c3e-5f8f-49ab-88a2-c101e5363b2f"
      },
      "execution_count": null,
      "outputs": [
        {
          "output_type": "stream",
          "name": "stdout",
          "text": [
            "<class 'numpy.ndarray'>\n"
          ]
        },
        {
          "output_type": "display_data",
          "data": {
            "image/png": "[encoded data removed]",
            "text/plain": [
              "<Figure size 432x288 with 1 Axes>"
            ]
          },
          "metadata": {
            "needs_background": "light"
          }
        }
      ]
    },
    {
      "cell_type": "code",
      "source": [
        "def draw_rotation_matrix_plot(arr,theta):\n",
        "  a = np.array(arr)\n",
        "  rotation_matrix = np.array([[m.cos(theta),-1*m.sin(theta)],[m.sin(theta),-1*m.cos(theta)]])\n",
        "  b = np.matmul(rotation_matrix,a)\n",
        "  fig, ax = plt.subplots()\n",
        "  q = ax.quiver(*a,units='xy',scale=1,color='blue',width = .09)\n",
        "  q = ax.quiver(*b,units='xy',scale=1,color='red')\n",
        "\n",
        "\n",
        "  plt.grid()\n",
        "\n",
        "  ax.set_aspect('equal')\n",
        "\n",
        "  plt.xlim(-5,5)\n",
        "  plt.ylim(-5,5)\n",
        "\n",
        "  plt.title('How to plot a vector in matplotlib ?',fontsize=10)\n",
        "\n",
        "  # plt.savefig('how_to_plot_a_vector_in_matplotlib_fig3.png', bbox_inches='tight')\n",
        "  plt.show()"
      ],
      "metadata": {
        "id": "4FRHcAEnYwqY"
      },
      "execution_count": null,
      "outputs": []
    },
    {
      "cell_type": "code",
      "source": [
        "draw_rotation_matrix_plot(np.array([1,1]),90)"
      ],
      "metadata": {
        "colab": {
          "base_uri": "https://localhost:8080/",
          "height": 279
        },
        "id": "GU1D14wSZZFG",
        "outputId": "54c2ef37-a0fe-4e4a-f137-88de41a479e5"
      },
      "execution_count": null,
      "outputs": [
        {
          "output_type": "display_data",
          "data": {
            "image/png": "[encoded data removed]",
            "text/plain": [
              "<Figure size 432x288 with 1 Axes>"
            ]
          },
          "metadata": {
            "needs_background": "light"
          }
        }
      ]
    },
    {
      "cell_type": "markdown",
      "source": [
        "# Lab 3"
      ],
      "metadata": {
        "id": "DYc1w0snWfaq"
      }
    },
    {
      "cell_type": "code",
      "source": [
        "X = np.array([\n",
        "              [1,6,8,0],\n",
        "              [33,2,3,5],\n",
        "              [1,6,6,7],\n",
        "              [2,9,8,4],\n",
        "              [5,6,9,6,],\n",
        "              [32,13,0,2]\n",
        "              ])"
      ],
      "metadata": {
        "id": "i_XhfbunWiT5"
      },
      "execution_count": null,
      "outputs": []
    },
    {
      "cell_type": "code",
      "source": [
        "def sigmoid(Z):\n",
        "    return 1/(1+np.exp(-Z))"
      ],
      "metadata": {
        "id": "8ckLoR7-d0CJ"
      },
      "execution_count": null,
      "outputs": []
    },
    {
      "cell_type": "code",
      "source": [
        "X.shape"
      ],
      "metadata": {
        "colab": {
          "base_uri": "https://localhost:8080/"
        },
        "id": "OF6FOLpdXH8w",
        "outputId": "ae5a414a-d7af-4ae5-a6d2-5e8d5c8db786"
      },
      "execution_count": null,
      "outputs": [
        {
          "output_type": "execute_result",
          "data": {
            "text/plain": [
              "(6, 4)"
            ]
          },
          "metadata": {},
          "execution_count": 108
        }
      ]
    },
    {
      "cell_type": "code",
      "source": [
        "gt_y = np.array([\n",
        "              [1,0,1,0],\n",
        "              [0,1,0,1]\n",
        "              ])"
      ],
      "metadata": {
        "id": "TAS4NzOqXL3R"
      },
      "execution_count": null,
      "outputs": []
    },
    {
      "cell_type": "code",
      "source": [
        "gt_y.shape"
      ],
      "metadata": {
        "colab": {
          "base_uri": "https://localhost:8080/"
        },
        "id": "iEfINbWvXjwc",
        "outputId": "a594aafa-61aa-4cea-985c-95a0804ad4dd"
      },
      "execution_count": null,
      "outputs": [
        {
          "output_type": "execute_result",
          "data": {
            "text/plain": [
              "(2, 4)"
            ]
          },
          "metadata": {},
          "execution_count": 110
        }
      ]
    },
    {
      "cell_type": "code",
      "source": [
        "b = np.random.normal(loc = 0.0, scale = 1e-2, size = (2,4))"
      ],
      "metadata": {
        "id": "DG5eiKMeagmF"
      },
      "execution_count": null,
      "outputs": []
    },
    {
      "cell_type": "code",
      "source": [
        "b"
      ],
      "metadata": {
        "colab": {
          "base_uri": "https://localhost:8080/"
        },
        "id": "i1rsjXF1e2o6",
        "outputId": "6fd5eb0f-9a21-40d9-a1a8-69b9c25fe1e7"
      },
      "execution_count": null,
      "outputs": [
        {
          "output_type": "execute_result",
          "data": {
            "text/plain": [
              "array([[ 0.00272314,  0.00257229, -0.01028198, -0.00741326],\n",
              "       [ 0.00919481, -0.01024463,  0.00337635, -0.01578649]])"
            ]
          },
          "metadata": {},
          "execution_count": 112
        }
      ]
    },
    {
      "cell_type": "code",
      "source": [
        "W = np.random.normal(loc = 0.0, scale = 1e-2, size = (6,2))"
      ],
      "metadata": {
        "id": "CvGODnaBXn3C"
      },
      "execution_count": null,
      "outputs": []
    },
    {
      "cell_type": "code",
      "source": [
        "W.shape"
      ],
      "metadata": {
        "colab": {
          "base_uri": "https://localhost:8080/"
        },
        "id": "pqqhZivUZBYa",
        "outputId": "59d7bb29-66de-4c59-bc28-f3e2120673d5"
      },
      "execution_count": null,
      "outputs": [
        {
          "output_type": "execute_result",
          "data": {
            "text/plain": [
              "(6, 2)"
            ]
          },
          "metadata": {},
          "execution_count": 114
        }
      ]
    },
    {
      "cell_type": "code",
      "source": [
        "b.shape"
      ],
      "metadata": {
        "colab": {
          "base_uri": "https://localhost:8080/"
        },
        "id": "0BB_eqeseHja",
        "outputId": "02740f4f-a518-4f04-ec1e-ee3833844c12"
      },
      "execution_count": null,
      "outputs": [
        {
          "output_type": "execute_result",
          "data": {
            "text/plain": [
              "(2, 4)"
            ]
          },
          "metadata": {},
          "execution_count": 115
        }
      ]
    },
    {
      "cell_type": "code",
      "source": [
        "np.dot(W.transpose(),X).shape"
      ],
      "metadata": {
        "colab": {
          "base_uri": "https://localhost:8080/"
        },
        "id": "VKxIcORNe89i",
        "outputId": "d08ab0be-57b0-4731-b4d6-38b1d49a99dd"
      },
      "execution_count": null,
      "outputs": [
        {
          "output_type": "execute_result",
          "data": {
            "text/plain": [
              "(2, 4)"
            ]
          },
          "metadata": {},
          "execution_count": 116
        }
      ]
    },
    {
      "cell_type": "code",
      "source": [
        "y = np.matmul(W.transpose(),X) +b"
      ],
      "metadata": {
        "id": "EqPdN_6XZioy"
      },
      "execution_count": null,
      "outputs": []
    },
    {
      "cell_type": "code",
      "source": [
        "y"
      ],
      "metadata": {
        "colab": {
          "base_uri": "https://localhost:8080/"
        },
        "id": "NplWbjSBfXTL",
        "outputId": "460dbd2e-7d88-4ec7-e87f-f01e2cc0c1ae"
      },
      "execution_count": null,
      "outputs": [
        {
          "output_type": "execute_result",
          "data": {
            "text/plain": [
              "array([[-0.79871657, -0.12013905,  0.12485599,  0.04106214],\n",
              "       [ 0.04883606,  0.02268162,  0.07692775,  0.0119765 ]])"
            ]
          },
          "metadata": {},
          "execution_count": 118
        }
      ]
    },
    {
      "cell_type": "code",
      "source": [
        "y = sigmoid(y)"
      ],
      "metadata": {
        "id": "3JggLjR5ar1e"
      },
      "execution_count": null,
      "outputs": []
    },
    {
      "cell_type": "code",
      "source": [
        "gt_y"
      ],
      "metadata": {
        "colab": {
          "base_uri": "https://localhost:8080/"
        },
        "id": "7LkaYYLMb6lY",
        "outputId": "3f76a671-8276-4ad9-b785-9d204a09445f"
      },
      "execution_count": null,
      "outputs": [
        {
          "output_type": "execute_result",
          "data": {
            "text/plain": [
              "array([[1, 0, 1, 0],\n",
              "       [0, 1, 0, 1]])"
            ]
          },
          "metadata": {},
          "execution_count": 120
        }
      ]
    },
    {
      "cell_type": "code",
      "source": [
        "np.square((gt_y-y)).sum()/8"
      ],
      "metadata": {
        "colab": {
          "base_uri": "https://localhost:8080/"
        },
        "id": "GvDVWFBGb8mo",
        "outputId": "b480fd56-0f41-4163-a8d4-05952468bfe7"
      },
      "execution_count": null,
      "outputs": [
        {
          "output_type": "execute_result",
          "data": {
            "text/plain": [
              "0.2750099111353661"
            ]
          },
          "metadata": {},
          "execution_count": 121
        }
      ]
    },
    {
      "cell_type": "code",
      "source": [
        "def calc_output_loss(X,gt_y):\n",
        "  ''' X:input matrix\n",
        "      gt_y:ground truth matrix\n",
        "      '''\n",
        "  W = np.random.normal(loc = 0.0, scale = 1e-2, size = (X.shape[0],gt_y.shape[0]))\n",
        "  b = np.random.normal(loc = 0.0, scale = 1e-2, size = gt_y.shape)\n",
        "  y = sigmoid(np.matmul(W.transpose(),X) +b)\n",
        "  loss = np.square((gt_y-y)).sum()/y.size\n",
        "  return y,loss"
      ],
      "metadata": {
        "id": "EnKrk3rJbRH7"
      },
      "execution_count": 128,
      "outputs": []
    },
    {
      "cell_type": "code",
      "source": [
        "calc_output_loss(X,gt_y)"
      ],
      "metadata": {
        "colab": {
          "base_uri": "https://localhost:8080/"
        },
        "id": "-RxzZTH9tVDw",
        "outputId": "5c636801-2352-4a46-a945-2ce62c26a64c"
      },
      "execution_count": 127,
      "outputs": [
        {
          "output_type": "execute_result",
          "data": {
            "text/plain": [
              "(array([[0.44215461, 0.49210029, 0.50210433, 0.50738025],\n",
              "        [0.63373389, 0.53005791, 0.49740136, 0.51791502]]),\n",
              " 0.27012090508412434)"
            ]
          },
          "metadata": {},
          "execution_count": 127
        }
      ]
    },
    {
      "cell_type": "code",
      "source": [
        ""
      ],
      "metadata": {
        "id": "bDq3jsiPtWtm"
      },
      "execution_count": null,
      "outputs": []
    }
  ]
}