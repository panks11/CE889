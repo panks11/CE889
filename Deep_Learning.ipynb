{
  "nbformat": 4,
  "nbformat_minor": 0,
  "metadata": {
    "colab": {
      "name": "Deep_Learning.ipynb",
      "provenance": [],
      "collapsed_sections": [],
      "authorship_tag": "ABX9TyOCq0yX6kMCDyvAoMe8Ki2H",
      "include_colab_link": true
    },
    "kernelspec": {
      "name": "python3",
      "display_name": "Python 3"
    },
    "language_info": {
      "name": "python"
    }
  },
  "cells": [
    {
      "cell_type": "markdown",
      "metadata": {
        "id": "view-in-github",
        "colab_type": "text"
      },
      "source": [
        "<a href=\"https://colab.research.google.com/github/panks11/CE889/blob/main/Deep_Learning.ipynb\" target=\"_parent\"><img src=\"https://colab.research.google.com/assets/colab-badge.svg\" alt=\"Open In Colab\"/></a>"
      ]
    },
    {
      "cell_type": "markdown",
      "source": [
        "#Lab2"
      ],
      "metadata": {
        "id": "a_xTorJ3S3oL"
      }
    },
    {
      "cell_type": "code",
      "execution_count": null,
      "metadata": {
        "id": "oG8QdSlhK6BI"
      },
      "outputs": [],
      "source": [
        "from matplotlib import pyplot as plt\n",
        "\n",
        "import numpy as np\n",
        "\n",
        "import math as m"
      ]
    },
    {
      "cell_type": "code",
      "source": [
        "import matplotlib.pyplot as plt\n",
        "import numpy as np\n",
        "\n",
        "\n",
        "a = np.array([1,1])\n",
        "b = a*2\n",
        "fig, ax = plt.subplots()\n",
        "q = ax.quiver(*a,units='xy',scale=1,color='blue',width = .09)\n",
        "q = ax.quiver(*b,units='xy',scale=1,color='red')\n",
        "\n",
        "\n",
        "plt.grid()\n",
        "\n",
        "ax.set_aspect('equal')\n",
        "\n",
        "plt.xlim(0,5)\n",
        "plt.ylim(0,5)\n",
        "\n",
        "plt.title('How to plot a vector in matplotlib ?',fontsize=10)\n",
        "\n",
        "# plt.savefig('how_to_plot_a_vector_in_matplotlib_fig3.png', bbox_inches='tight')\n",
        "plt.show()"
      ],
      "metadata": {
        "colab": {
          "base_uri": "https://localhost:8080/",
          "height": 279
        },
        "id": "iQwpZEDuY_gT",
        "outputId": "f60f3f46-cbaf-4a93-b1ba-f23e5b22f574"
      },
      "execution_count": null,
      "outputs": [
        {
          "output_type": "display_data",
          "data": {
            "image/png": "[encoded data removed]",
            "text/plain": [
              "<Figure size 432x288 with 1 Axes>"
            ]
          },
          "metadata": {
            "needs_background": "light"
          }
        }
      ]
    },
    {
      "cell_type": "code",
      "source": [
        "def draw_plot(arr,scale):\n",
        "  a = np.array(arr)\n",
        "  print(type(a))\n",
        "  b = a*scale\n",
        "  fig, ax = plt.subplots()\n",
        "  q = ax.quiver(*a,units='xy',scale=1,color='blue',width = .09)\n",
        "  q = ax.quiver(*b,units='xy',scale=1,color='red')\n",
        "\n",
        "\n",
        "  plt.grid()\n",
        "\n",
        "  ax.set_aspect('equal')\n",
        "\n",
        "  plt.xlim(0,5)\n",
        "  plt.ylim(0,5)\n",
        "\n",
        "  plt.title('How to plot a vector in matplotlib ?',fontsize=10)\n",
        "\n",
        "  # plt.savefig('how_to_plot_a_vector_in_matplotlib_fig3.png', bbox_inches='tight')\n",
        "  plt.show()"
      ],
      "metadata": {
        "id": "shkIuJzEcIKN"
      },
      "execution_count": null,
      "outputs": []
    },
    {
      "cell_type": "code",
      "source": [
        "# arr = eval(input(\"Enter your array: \"))\n",
        "# scale= eval(input(\"Enter your scale: \"))\n"
      ],
      "metadata": {
        "id": "orDHEhdriYf_"
      },
      "execution_count": null,
      "outputs": []
    },
    {
      "cell_type": "code",
      "source": [
        "# draw_plot(arr,scale)"
      ],
      "metadata": {
        "id": "LmczJGwSjcjp"
      },
      "execution_count": null,
      "outputs": []
    },
    {
      "cell_type": "code",
      "source": [
        "def draw_rotation_matrix_plot(arr,theta):\n",
        "  a = np.array(arr)\n",
        "  rotation_matrix = np.array([[m.cos(theta),-1*m.sin(theta)],[m.sin(theta),-1*m.cos(theta)]])\n",
        "  b = np.matmul(rotation_matrix,a)\n",
        "  fig, ax = plt.subplots()\n",
        "  q = ax.quiver(*a,units='xy',scale=1,color='blue',width = .09)\n",
        "  q = ax.quiver(*b,units='xy',scale=1,color='red')\n",
        "\n",
        "\n",
        "  plt.grid()\n",
        "\n",
        "  ax.set_aspect('equal')\n",
        "\n",
        "  plt.xlim(-5,5)\n",
        "  plt.ylim(-5,5)\n",
        "\n",
        "  plt.title('How to plot a vector in matplotlib ?',fontsize=10)\n",
        "\n",
        "  # plt.savefig('how_to_plot_a_vector_in_matplotlib_fig3.png', bbox_inches='tight')\n",
        "  plt.show()"
      ],
      "metadata": {
        "id": "4FRHcAEnYwqY"
      },
      "execution_count": null,
      "outputs": []
    },
    {
      "cell_type": "code",
      "source": [
        "draw_rotation_matrix_plot(np.array([1,1]),90)"
      ],
      "metadata": {
        "colab": {
          "base_uri": "https://localhost:8080/",
          "height": 279
        },
        "id": "GU1D14wSZZFG",
        "outputId": "3185e256-7f26-4677-aae6-aa8eb819df3c"
      },
      "execution_count": null,
      "outputs": [
        {
          "output_type": "display_data",
          "data": {
            "image/png": "[encoded data removed]",
            "text/plain": [
              "<Figure size 432x288 with 1 Axes>"
            ]
          },
          "metadata": {
            "needs_background": "light"
          }
        }
      ]
    },
    {
      "cell_type": "markdown",
      "source": [
        "# Lab 3"
      ],
      "metadata": {
        "id": "DYc1w0snWfaq"
      }
    },
    {
      "cell_type": "code",
      "source": [
        "X = np.array([\n",
        "              [1,6,8,0],\n",
        "              [33,2,3,5],\n",
        "              [1,6,6,7],\n",
        "              [2,9,8,4],\n",
        "              [5,6,9,6,],\n",
        "              [32,13,0,2]\n",
        "              ])"
      ],
      "metadata": {
        "id": "i_XhfbunWiT5"
      },
      "execution_count": null,
      "outputs": []
    },
    {
      "cell_type": "code",
      "source": [
        "def sigmoid(Z):\n",
        "    return 1/(1+np.exp(-Z))"
      ],
      "metadata": {
        "id": "8ckLoR7-d0CJ"
      },
      "execution_count": null,
      "outputs": []
    },
    {
      "cell_type": "code",
      "source": [
        "X.shape"
      ],
      "metadata": {
        "colab": {
          "base_uri": "https://localhost:8080/"
        },
        "id": "OF6FOLpdXH8w",
        "outputId": "1c1d96af-2981-4f7d-9f80-8a2750ad10c4"
      },
      "execution_count": null,
      "outputs": [
        {
          "output_type": "execute_result",
          "data": {
            "text/plain": [
              "(6, 4)"
            ]
          },
          "metadata": {},
          "execution_count": 33
        }
      ]
    },
    {
      "cell_type": "code",
      "source": [
        "gt_y = np.array([\n",
        "              [1,0,1,0],\n",
        "              [0,1,0,1]\n",
        "              ])"
      ],
      "metadata": {
        "id": "TAS4NzOqXL3R"
      },
      "execution_count": null,
      "outputs": []
    },
    {
      "cell_type": "code",
      "source": [
        "gt_y.shape"
      ],
      "metadata": {
        "colab": {
          "base_uri": "https://localhost:8080/"
        },
        "id": "iEfINbWvXjwc",
        "outputId": "36155f4d-1bf2-4d97-cf7b-a4834f50930a"
      },
      "execution_count": null,
      "outputs": [
        {
          "output_type": "execute_result",
          "data": {
            "text/plain": [
              "(2, 4)"
            ]
          },
          "metadata": {},
          "execution_count": 35
        }
      ]
    },
    {
      "cell_type": "code",
      "source": [
        "b = np.random.normal(loc = 0.0, scale =0.01 , size = (2,4))"
      ],
      "metadata": {
        "id": "DG5eiKMeagmF"
      },
      "execution_count": null,
      "outputs": []
    },
    {
      "cell_type": "code",
      "source": [
        "b"
      ],
      "metadata": {
        "colab": {
          "base_uri": "https://localhost:8080/"
        },
        "id": "i1rsjXF1e2o6",
        "outputId": "8c204c3a-809f-484f-a7cb-7aba0c5a0fa6"
      },
      "execution_count": null,
      "outputs": [
        {
          "output_type": "execute_result",
          "data": {
            "text/plain": [
              "array([[-0.01369507, -0.00821182,  0.00080307,  0.00198958],\n",
              "       [ 0.0212906 ,  0.00306779,  0.0089786 , -0.00527735]])"
            ]
          },
          "metadata": {},
          "execution_count": 37
        }
      ]
    },
    {
      "cell_type": "code",
      "source": [
        "W = np.random.normal(loc = 0.0, scale = 1e-2, size = (6,2))"
      ],
      "metadata": {
        "id": "CvGODnaBXn3C"
      },
      "execution_count": null,
      "outputs": []
    },
    {
      "cell_type": "code",
      "source": [
        "W.shape"
      ],
      "metadata": {
        "colab": {
          "base_uri": "https://localhost:8080/"
        },
        "id": "pqqhZivUZBYa",
        "outputId": "1208e5db-148d-4cc2-d200-ae809839d959"
      },
      "execution_count": null,
      "outputs": [
        {
          "output_type": "execute_result",
          "data": {
            "text/plain": [
              "(6, 2)"
            ]
          },
          "metadata": {},
          "execution_count": 45
        }
      ]
    },
    {
      "cell_type": "code",
      "source": [
        "b.shape"
      ],
      "metadata": {
        "colab": {
          "base_uri": "https://localhost:8080/"
        },
        "id": "0BB_eqeseHja",
        "outputId": "bce20a25-2d4c-4c0e-aafe-85710a136d91"
      },
      "execution_count": null,
      "outputs": [
        {
          "output_type": "execute_result",
          "data": {
            "text/plain": [
              "(2, 4)"
            ]
          },
          "metadata": {},
          "execution_count": 46
        }
      ]
    },
    {
      "cell_type": "code",
      "source": [
        "np.dot(W.transpose(),X).shape"
      ],
      "metadata": {
        "colab": {
          "base_uri": "https://localhost:8080/"
        },
        "id": "VKxIcORNe89i",
        "outputId": "44fd1346-353b-4cda-e1d2-1125656e7ff6"
      },
      "execution_count": null,
      "outputs": [
        {
          "output_type": "execute_result",
          "data": {
            "text/plain": [
              "(2, 4)"
            ]
          },
          "metadata": {},
          "execution_count": 48
        }
      ]
    },
    {
      "cell_type": "code",
      "source": [
        "y = np.matmul(W.transpose(),X) +b"
      ],
      "metadata": {
        "id": "EqPdN_6XZioy"
      },
      "execution_count": null,
      "outputs": []
    },
    {
      "cell_type": "code",
      "source": [
        "y"
      ],
      "metadata": {
        "colab": {
          "base_uri": "https://localhost:8080/"
        },
        "id": "NplWbjSBfXTL",
        "outputId": "99681972-6f99-49e7-b936-31005a5e4a11"
      },
      "execution_count": null,
      "outputs": [
        {
          "output_type": "execute_result",
          "data": {
            "text/plain": [
              "array([[-0.87940229, -0.21706987,  0.15211086, -0.07628302],\n",
              "       [-0.68125845, -0.09440272, -0.20592269, -0.25311911]])"
            ]
          },
          "metadata": {},
          "execution_count": 60
        }
      ]
    },
    {
      "cell_type": "code",
      "source": [
        "y = sigmoid(y)"
      ],
      "metadata": {
        "id": "3JggLjR5ar1e"
      },
      "execution_count": null,
      "outputs": []
    },
    {
      "cell_type": "code",
      "source": [
        "y"
      ],
      "metadata": {
        "colab": {
          "base_uri": "https://localhost:8080/"
        },
        "id": "vMO8QFXxWgGA",
        "outputId": "a9e1073b-d172-42fc-dd6e-e1ffd8a77adb"
      },
      "execution_count": null,
      "outputs": [
        {
          "output_type": "execute_result",
          "data": {
            "text/plain": [
              "array([[0.29330165, 0.44594462, 0.53795456, 0.48093849],\n",
              "       [0.33598049, 0.47641683, 0.44870048, 0.43705593]])"
            ]
          },
          "metadata": {},
          "execution_count": 62
        }
      ]
    },
    {
      "cell_type": "code",
      "source": [
        "gt_y"
      ],
      "metadata": {
        "colab": {
          "base_uri": "https://localhost:8080/"
        },
        "id": "7LkaYYLMb6lY",
        "outputId": "37d23ed7-9f6b-4114-ddad-4852c09ab634"
      },
      "execution_count": null,
      "outputs": [
        {
          "output_type": "execute_result",
          "data": {
            "text/plain": [
              "array([[1, 0, 1, 0],\n",
              "       [0, 1, 0, 1]])"
            ]
          },
          "metadata": {},
          "execution_count": 63
        }
      ]
    },
    {
      "cell_type": "code",
      "source": [
        "np.square((gt_y-y))"
      ],
      "metadata": {
        "colab": {
          "base_uri": "https://localhost:8080/"
        },
        "id": "GvDVWFBGb8mo",
        "outputId": "5fcc3a46-57a5-4b49-e2f3-fc1badf55db1"
      },
      "execution_count": null,
      "outputs": [
        {
          "output_type": "execute_result",
          "data": {
            "text/plain": [
              "array([[0.49942255, 0.1988666 , 0.21348599, 0.23130183],\n",
              "       [0.11288289, 0.27413933, 0.20133212, 0.31690603]])"
            ]
          },
          "metadata": {},
          "execution_count": 64
        }
      ]
    },
    {
      "cell_type": "code",
      "source": [
        "(np.square(gt_y-y).sum(axis=0)).sum()/4"
      ],
      "metadata": {
        "colab": {
          "base_uri": "https://localhost:8080/"
        },
        "id": "Dsld0Vkh3MIh",
        "outputId": "82201660-7683-4b9a-dd7d-77ce91123302"
      },
      "execution_count": null,
      "outputs": [
        {
          "output_type": "execute_result",
          "data": {
            "text/plain": [
              "0.512084334632947"
            ]
          },
          "metadata": {},
          "execution_count": 75
        }
      ]
    },
    {
      "cell_type": "code",
      "source": [
        "def calc_output_loss(X,gt_y):\n",
        "  ''' X:input matrix\n",
        "      gt_y:ground truth matrix\n",
        "      '''\n",
        "  W = np.random.normal(loc = 0.0, scale = 1e-2, size = (X.shape[0],gt_y.shape[0]))\n",
        "  b = np.random.normal(loc = 0.0, scale = 1e-2, size = gt_y.shape)\n",
        "  y = sigmoid(np.matmul(W.transpose(),X) +b)\n",
        "  loss = (np.square(gt_y-y).sum(axis=0)).sum()/X.shape[1]\n",
        "  return y,loss"
      ],
      "metadata": {
        "id": "EnKrk3rJbRH7"
      },
      "execution_count": null,
      "outputs": []
    },
    {
      "cell_type": "code",
      "source": [
        "calc_output_loss(X,gt_y)"
      ],
      "metadata": {
        "colab": {
          "base_uri": "https://localhost:8080/"
        },
        "id": "-RxzZTH9tVDw",
        "outputId": "d8b74c77-cdeb-4950-8923-9cdb00eff118"
      },
      "execution_count": null,
      "outputs": [
        {
          "output_type": "execute_result",
          "data": {
            "text/plain": [
              "(array([[0.5268304 , 0.53467199, 0.49776047, 0.48418718],\n",
              "        [0.71880644, 0.57444019, 0.54394632, 0.55900077]]), 0.5461467884397162)"
            ]
          },
          "metadata": {},
          "execution_count": 44
        }
      ]
    },
    {
      "cell_type": "markdown",
      "source": [
        "Lab 4"
      ],
      "metadata": {
        "id": "STdiAozNdSKt"
      }
    },
    {
      "cell_type": "code",
      "source": [
        "import numpy as np"
      ],
      "metadata": {
        "id": "FttTSQSSS3u-"
      },
      "execution_count": null,
      "outputs": []
    },
    {
      "cell_type": "code",
      "source": [
        "X = np.array([\n",
        "              [1,6,8,0],\n",
        "              [33,2,3,5],\n",
        "              [1,6,6,7],\n",
        "              [2,9,8,4],\n",
        "              [5,6,9,6,],\n",
        "              [32,13,0,2]\n",
        "              ])"
      ],
      "metadata": {
        "id": "yiWe1lE7V36H"
      },
      "execution_count": null,
      "outputs": []
    },
    {
      "cell_type": "code",
      "source": [
        "y = np.array([\n",
        "              [1,0,1,0],\n",
        "              [0,1,0,1]\n",
        "              ])"
      ],
      "metadata": {
        "id": "sYrhVpx4V9Kf"
      },
      "execution_count": null,
      "outputs": []
    },
    {
      "cell_type": "code",
      "source": [
        "# W = np.random.normal(loc = 0.0, scale =0.01 , size = (X.shape[0],gt_y.shape[0]))\n",
        "# b = np.random.normal(loc = 0.0, scale = 1e-2, size = gt_y.shape)\n",
        "\n",
        "W = np.zeros((X.shape[0],y.shape[0]))\n",
        "b = np.zeros(y.shape)"
      ],
      "metadata": {
        "id": "5I1eWqAldgOp"
      },
      "execution_count": null,
      "outputs": []
    },
    {
      "cell_type": "code",
      "source": [
        "print(W)\n",
        "print(15*'*')\n",
        "print(b)"
      ],
      "metadata": {
        "colab": {
          "base_uri": "https://localhost:8080/"
        },
        "id": "D_8iKt6Mj65d",
        "outputId": "d8f77655-95ff-4972-fbd5-037f89a3886e"
      },
      "execution_count": null,
      "outputs": [
        {
          "output_type": "stream",
          "name": "stdout",
          "text": [
            "[[0. 0.]\n",
            " [0. 0.]\n",
            " [0. 0.]\n",
            " [0. 0.]\n",
            " [0. 0.]\n",
            " [0. 0.]]\n",
            "***************\n",
            "[[0. 0. 0. 0.]\n",
            " [0. 0. 0. 0.]]\n"
          ]
        }
      ]
    },
    {
      "cell_type": "code",
      "source": [
        "def log_loss(yHat, y):\n",
        "    return y*np.log(yHat)+(1-y)*np.log(1 - yHat)"
      ],
      "metadata": {
        "id": "20Xmd4dsdT1r"
      },
      "execution_count": null,
      "outputs": []
    },
    {
      "cell_type": "code",
      "source": [
        "def sigmoid(Z):\n",
        "    return 1/(1+np.exp(-Z))"
      ],
      "metadata": {
        "id": "t_9cWxXWWFbI"
      },
      "execution_count": null,
      "outputs": []
    },
    {
      "cell_type": "code",
      "source": [
        "def forward_propogation(Xin,y,W,b):\n",
        "  ''' Xin :input matrix\n",
        "      y :ground truth matrix\n",
        "      '''\n",
        "\n",
        "  yhat = sigmoid(np.matmul(W.transpose(),Xin) +b)\n",
        "  loss = -1*(log_loss(yhat,y)).sum()/X.shape[1]\n",
        "  return yhat,loss"
      ],
      "metadata": {
        "id": "0hvstSDST4ou"
      },
      "execution_count": null,
      "outputs": []
    },
    {
      "cell_type": "code",
      "source": [
        "yhat,loss = forward_propogation(X,y,W,b)\n",
        "print(yhat)\n",
        "print(loss)"
      ],
      "metadata": {
        "id": "QpvA5AgPbSs-",
        "colab": {
          "base_uri": "https://localhost:8080/"
        },
        "outputId": "07d979b7-bee5-4be4-f377-53f6da0a4b78"
      },
      "execution_count": null,
      "outputs": [
        {
          "output_type": "stream",
          "name": "stdout",
          "text": [
            "[[0.5 0.5 0.5 0.5]\n",
            " [0.5 0.5 0.5 0.5]]\n",
            "1.3862943611198906\n"
          ]
        }
      ]
    },
    {
      "cell_type": "code",
      "source": [
        "wderv = X@np.transpose(yhat-y)/X.shape[1]\n",
        "bderv = np.sum(yhat-y)/X.shape[1]"
      ],
      "metadata": {
        "id": "vLV5DmSYctYv"
      },
      "execution_count": null,
      "outputs": []
    },
    {
      "cell_type": "code",
      "source": [
        "n = 0.01\n",
        "W = W - n * wderv\n",
        "b = b - n * bderv"
      ],
      "metadata": {
        "id": "jpeqMWMAA6O1"
      },
      "execution_count": null,
      "outputs": []
    },
    {
      "cell_type": "code",
      "source": [
        "n = 0.01\n",
        "\n",
        "def backward_propogation(W,b):\n",
        "  loss_list = []\n",
        "  for i in range(10):\n",
        "    yhat,loss = forward_propogation(X,y,W,b)\n",
        "    wderv = X@np.transpose(yhat-y)/X.shape[1]\n",
        "    bderv = np.sum(yhat-y)/X.shape[1]\n",
        "    W = W - n * wderv\n",
        "    b = b - n * bderv\n",
        "    print(W)\n",
        "    loss_list.append(loss)\n",
        "    if loss <=0.0001:\n",
        "      print('hi')\n",
        "      break\n",
        "  return loss_list"
      ],
      "metadata": {
        "id": "3nFLJihDIjEi"
      },
      "execution_count": null,
      "outputs": []
    },
    {
      "cell_type": "code",
      "source": [
        "loss_values = backward_propogation(W,b)"
      ],
      "metadata": {
        "colab": {
          "base_uri": "https://localhost:8080/"
        },
        "id": "qnuMKX5XEboG",
        "outputId": "fef84da6-441a-40f3-9176-38b53e2e7584"
      },
      "execution_count": null,
      "outputs": [
        {
          "output_type": "stream",
          "name": "stdout",
          "text": [
            "[[-0.01815469  0.01815469]\n",
            " [ 0.03113259 -0.03113259]\n",
            " [-0.00749222  0.00749222]\n",
            " [-0.01509039  0.01509039]\n",
            " [-0.00854616  0.00854616]\n",
            " [ 0.00131695 -0.00131695]]\n",
            "[[-0.03389587  0.03389587]\n",
            " [ 0.02954275 -0.02954275]\n",
            " [-0.00205204  0.00205204]\n",
            " [-0.0195609   0.0195609 ]\n",
            " [-0.01140037  0.01140037]\n",
            " [-0.01168722  0.01168722]]\n",
            "[[-0.04665846  0.04665846]\n",
            " [ 0.02911551 -0.02911551]\n",
            " [ 0.00523318 -0.00523318]\n",
            " [-0.02121464  0.02121464]\n",
            " [-0.01101401  0.01101401]\n",
            " [-0.0214636   0.0214636 ]]\n",
            "[[-0.05781185  0.05781185]\n",
            " [ 0.02890594 -0.02890594]\n",
            " [ 0.01291924 -0.01291924]\n",
            " [-0.02172752  0.02172752]\n",
            " [-0.00942205  0.00942205]\n",
            " [-0.0295897   0.0295897 ]]\n",
            "[[-0.06793308  0.06793308]\n",
            " [ 0.02856366 -0.02856366]\n",
            " [ 0.02046365 -0.02046365]\n",
            " [-0.02176423  0.02176423]\n",
            " [-0.00742212  0.00742212]\n",
            " [-0.03672052  0.03672052]]\n",
            "[[-0.07730037  0.07730037]\n",
            " [ 0.02796761 -0.02796761]\n",
            " [ 0.02767054 -0.02767054]\n",
            " [-0.02160337  0.02160337]\n",
            " [-0.00533866  0.00533866]\n",
            " [-0.04316231  0.04316231]]\n",
            "[[-0.08606857  0.08606857]\n",
            " [ 0.02708947 -0.02708947]\n",
            " [ 0.03448436 -0.03448436]\n",
            " [-0.02136561  0.02136561]\n",
            " [-0.00330304  0.00330304]\n",
            " [-0.0490778   0.0490778 ]]\n",
            "[[-0.09433598  0.09433598]\n",
            " [ 0.02593865 -0.02593865]\n",
            " [ 0.04090725 -0.04090725]\n",
            " [-0.02110338  0.02110338]\n",
            " [-0.00136407  0.00136407]\n",
            " [-0.05456494  0.05456494]]\n",
            "[[-0.1021722   0.1021722 ]\n",
            " [ 0.02453888 -0.02453888]\n",
            " [ 0.04696409 -0.04696409]\n",
            " [-0.02083862  0.02083862]\n",
            " [ 0.00046534 -0.00046534]\n",
            " [-0.05968971  0.05968971]]\n",
            "[[-0.10963049  0.10963049]\n",
            " [ 0.02291796 -0.02291796]\n",
            " [ 0.05268721 -0.05268721]\n",
            " [-0.0205795   0.0205795 ]\n",
            " [ 0.00218764 -0.00218764]\n",
            " [-0.06450068  0.06450068]]\n"
          ]
        }
      ]
    },
    {
      "cell_type": "code",
      "source": [
        "loss_values[-1]"
      ],
      "metadata": {
        "colab": {
          "base_uri": "https://localhost:8080/"
        },
        "id": "Q_Gpt4uHMjh_",
        "outputId": "5eb04c05-5929-471f-ee37-96cf0006b878"
      },
      "execution_count": null,
      "outputs": [
        {
          "output_type": "execute_result",
          "data": {
            "text/plain": [
              "0.0014728780727367957"
            ]
          },
          "metadata": {},
          "execution_count": 135
        }
      ]
    },
    {
      "cell_type": "code",
      "source": [
        "import matplotlib.pyplot as plt\n",
        "plt.plot(loss_values)\n",
        "plt.show()"
      ],
      "metadata": {
        "colab": {
          "base_uri": "https://localhost:8080/",
          "height": 265
        },
        "id": "pWaG2CWTKnNJ",
        "outputId": "292b88d3-f1d8-4f3e-dcbf-1c79b13163c9"
      },
      "execution_count": null,
      "outputs": [
        {
          "output_type": "display_data",
          "data": {
            "image/png": "[encoded data removed]",
            "text/plain": [
              "<Figure size 432x288 with 1 Axes>"
            ]
          },
          "metadata": {
            "needs_background": "light"
          }
        }
      ]
    },
    {
      "cell_type": "code",
      "source": [
        "W"
      ],
      "metadata": {
        "colab": {
          "base_uri": "https://localhost:8080/"
        },
        "id": "MjDnLZGCJlAj",
        "outputId": "f00cf26d-e218-4c2f-fa12-af727704d5ec"
      },
      "execution_count": null,
      "outputs": [
        {
          "output_type": "execute_result",
          "data": {
            "text/plain": [
              "array([[ 0.00375, -0.00375],\n",
              "       [ 0.03625, -0.03625],\n",
              "       [-0.0075 ,  0.0075 ],\n",
              "       [-0.00375,  0.00375],\n",
              "       [ 0.0025 , -0.0025 ],\n",
              "       [ 0.02125, -0.02125]])"
            ]
          },
          "metadata": {},
          "execution_count": 134
        }
      ]
    },
    {
      "cell_type": "code",
      "source": [
        "b"
      ],
      "metadata": {
        "colab": {
          "base_uri": "https://localhost:8080/"
        },
        "id": "hjRi_P0YKLyl",
        "outputId": "8628ca17-76f9-426b-cd12-38d34cfe6774"
      },
      "execution_count": null,
      "outputs": [
        {
          "output_type": "execute_result",
          "data": {
            "text/plain": [
              "array([[0., 0., 0., 0.],\n",
              "       [0., 0., 0., 0.]])"
            ]
          },
          "metadata": {},
          "execution_count": 125
        }
      ]
    },
    {
      "cell_type": "code",
      "source": [
        "Xtest = np.array([\n",
        "              [0,12,0,3],\n",
        "              [5,2,3,8],\n",
        "              [11,5,4,7],\n",
        "              [2,9,8,7],\n",
        "              [5,10,9,9],\n",
        "              [3,13,0,3]\n",
        "              ])"
      ],
      "metadata": {
        "id": "F0-Iq9SIKMhf"
      },
      "execution_count": null,
      "outputs": []
    },
    {
      "cell_type": "code",
      "source": [
        "ytest_hat = sigmoid(np.matmul(W.transpose(),Xtest) +b)"
      ],
      "metadata": {
        "colab": {
          "base_uri": "https://localhost:8080/"
        },
        "id": "RDbwdx_8L82_",
        "outputId": "3db86526-6f51-486a-ecbb-58a302c0bc12"
      },
      "execution_count": null,
      "outputs": [
        {
          "output_type": "execute_result",
          "data": {
            "text/plain": [
              "array([[0.54177737, 0.5860112 , 0.51780497, 0.57658012],\n",
              "       [0.45822263, 0.4139888 , 0.48219503, 0.42341988]])"
            ]
          },
          "metadata": {},
          "execution_count": 140
        }
      ]
    },
    {
      "cell_type": "code",
      "source": [
        "import matplotlib.pyplot as plt\n",
        "import numpy as np\n",
        "\n",
        "class NN():\n",
        "  def __init__(self,X,y):\n",
        "    \"\"\" X : input matrix\n",
        "        Y : GroundTruth matrix\n",
        "    \"\"\"\n",
        "    self.X = X\n",
        "    self.y = y\n",
        "    self.W = np.zeros((X.shape[0],y.shape[0]))\n",
        "    self.b = b = np.zeros(y.shape)\n",
        "    self.loss_lst = []\n",
        "  \n",
        "  def activation(self,Z ,fn = 'sigmoid'):\n",
        "    if fn == 'sigmoid':\n",
        "      return 1/(1+np.exp(-Z))\n",
        "\n",
        "  def log_loss(self,yHat, y):\n",
        "    return y*np.log(yHat)+(1-y)*np.log(1 - yHat)\n",
        "\n",
        "  def forward_propogation(self):\n",
        "  # ''' Xin :input matrix y :ground truth matrix'''\n",
        "    yhat = self.activation(np.matmul(self.W.transpose(),self.X) +self.b)\n",
        "    loss = -1*(self.log_loss(yhat,self.y)).sum()/self.X.shape[1]\n",
        "    return yhat,loss\n",
        "\n",
        "  def fit(self,n,plot=True):\n",
        "    for i in range(3000):\n",
        "      yhat,loss = self.forward_propogation()\n",
        "      wderv = self.X@np.transpose(yhat-self.y)/self.X.shape[1]\n",
        "      bderv = np.sum(yhat-self.y)/self.X.shape[1]\n",
        "      self.W = self.W - n * wderv\n",
        "      self.b = self.b - n * bderv\n",
        "      self.loss_lst .append(loss)\n",
        "      # print(loss)\n",
        "      if loss <=0.0001:\n",
        "        break\n",
        "    if plot:\n",
        "      self.plot_loss()\n",
        "    return self.W,self.b\n",
        "\n",
        "  def plot_loss(self):\n",
        "    plt.plot(self.loss_lst)\n",
        "    plt.show()\n",
        "\n",
        "  def predict(self,Xtest):\n",
        "    return self.activation(np.matmul(self.W.transpose(),Xtest) +self.b)"
      ],
      "metadata": {
        "id": "WLn95W1TMIPz"
      },
      "execution_count": null,
      "outputs": []
    },
    {
      "cell_type": "code",
      "source": [
        "Xtrain = np.array([\n",
        "              [1,6,8,0],\n",
        "              [33,2,3,5],\n",
        "              [1,6,6,7],\n",
        "              [2,9,8,4],\n",
        "              [5,6,9,6,],\n",
        "              [32,13,0,2]\n",
        "              ])\n",
        "ytrain = np.array([\n",
        "              [1,0,1,0],\n",
        "              [0,1,0,1]\n",
        "              ])\n",
        "Xtest = np.array([\n",
        "              [0,12,0,3],\n",
        "              [5,2,3,8],\n",
        "              [11,5,4,7],\n",
        "              [2,9,8,7],\n",
        "              [5,10,9,9],\n",
        "              [3,13,0,3]\n",
        "              ])\n",
        "\n",
        "obj = NN(Xtrain,ytrain)\n",
        "obj.fit(0.01)\n",
        "print(\"Minimum Loss Value {}\".format(obj.loss_lst[-1]))"
      ],
      "metadata": {
        "colab": {
          "base_uri": "https://localhost:8080/",
          "height": 282
        },
        "id": "8A4H_vpRL0Al",
        "outputId": "45a4cab8-a83e-4134-d138-4aa1d6f0d2d6"
      },
      "execution_count": null,
      "outputs": [
        {
          "output_type": "display_data",
          "data": {
            "image/png": "[encoded data removed]",
            "text/plain": [
              "<Figure size 432x288 with 1 Axes>"
            ]
          },
          "metadata": {
            "needs_background": "light"
          }
        },
        {
          "output_type": "stream",
          "name": "stdout",
          "text": [
            "Minimum Loss Value 0.008532494416254623\n"
          ]
        }
      ]
    },
    {
      "cell_type": "code",
      "source": [
        "float_formatter = \"{:.2f}\".format\n",
        "np.set_printoptions(formatter={'float_kind':float_formatter})"
      ],
      "metadata": {
        "id": "rA2vSnqbO33u"
      },
      "execution_count": null,
      "outputs": []
    },
    {
      "cell_type": "code",
      "source": [
        "obj.predict(Xtest)"
      ],
      "metadata": {
        "colab": {
          "base_uri": "https://localhost:8080/"
        },
        "id": "LvY64LgTNCEv",
        "outputId": "b5244f56-dba2-4391-abbf-90c80f54c50b"
      },
      "execution_count": null,
      "outputs": [
        {
          "output_type": "execute_result",
          "data": {
            "text/plain": [
              "array([[0.00, 0.94, 0.08, 0.54],\n",
              "       [1.00, 0.06, 0.92, 0.46]])"
            ]
          },
          "metadata": {},
          "execution_count": 42
        }
      ]
    },
    {
      "cell_type": "code",
      "source": [
        ""
      ],
      "metadata": {
        "id": "KiJKg68XPvQd"
      },
      "execution_count": null,
      "outputs": []
    }
  ]
}